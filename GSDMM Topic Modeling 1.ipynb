{
 "cells": [
  {
   "cell_type": "code",
   "execution_count": 1,
   "id": "ec948236",
   "metadata": {},
   "outputs": [
    {
     "name": "stderr",
     "output_type": "stream",
     "text": [
      "[nltk_data] Downloading package stopwords to\n",
      "[nltk_data]     C:\\Users\\Dd\\AppData\\Roaming\\nltk_data...\n",
      "[nltk_data]   Package stopwords is already up-to-date!\n",
      "[nltk_data] Downloading package wordnet to\n",
      "[nltk_data]     C:\\Users\\Dd\\AppData\\Roaming\\nltk_data...\n",
      "[nltk_data]   Package wordnet is already up-to-date!\n"
     ]
    }
   ],
   "source": [
    "import pandas as pd\n",
    "import numpy as np\n",
    "\n",
    "# set seed for reproducibility\n",
    "np.random.seed(493)\n",
    "\n",
    "import nltk\n",
    "nltk.download('stopwords')\n",
    "nltk.download('wordnet')\n",
    "from nltk.corpus import stopwords\n",
    "from nltk import word_tokenize, sent_tokenize\n",
    "ps = nltk.porter.PorterStemmer()\n",
    "\n",
    "import unicodedata\n",
    "import re\n",
    "\n",
    "from gsdmm import MovieGroupProcess\n",
    "\n",
    "# to print out all the outputs\n",
    "from IPython.core.interactiveshell import InteractiveShell\n",
    "InteractiveShell.ast_node_interactivity = \"all\"\n",
    "\n",
    "# set display options\n",
    "pd.set_option('display.max_columns', None)\n",
    "pd.set_option('display.max_rows', None)\n",
    "pd.set_option('display.max_colwidth', None)"
   ]
  },
  {
   "cell_type": "code",
   "execution_count": 3,
   "id": "ebc96169",
   "metadata": {},
   "outputs": [],
   "source": [
    "# read the tweets info a dataframe\n",
    "df = pd.read_csv('cs.csv')\n",
    "\n",
    "# remove  null values\n",
    "df = df.loc[df.cleaned.notnull()]"
   ]
  },
  {
   "cell_type": "code",
   "execution_count": 4,
   "id": "554c3b74",
   "metadata": {},
   "outputs": [],
   "source": [
    "def basic_clean(original):\n",
    "    word = original.lower()\n",
    "    word = unicodedata.normalize('NFKD', word)\\\n",
    "                                .encode('ascii', 'ignore')\\\n",
    "                                .decode('utf-8', 'ignore')\n",
    "    word = re.sub(r\"[^a-z0-9'\\s]\", '', word)\n",
    "    word = word.replace('\\n',' ')\n",
    "    word = word.replace('\\t',' ')\n",
    "    return word\n",
    "  \n",
    "def remove_stopwords(original, extra_words=[], exclude_words=[]):\n",
    "    stopword_list = stopwords.words('english')\n",
    "\n",
    "    for word in extra_words:\n",
    "        stopword_list.append(word)\n",
    "    for word in exclude_words:\n",
    "        stopword_list.remove(word)\n",
    "\n",
    "    words = original.split()\n",
    "    filtered_words = [w for w in words if w not in stopword_list]\n",
    "\n",
    "    original_nostop = ' '.join(filtered_words)\n",
    "\n",
    "    return original_nostop\n",
    " \n",
    "def stem(original):\n",
    "    ps = nltk.porter.PorterStemmer()\n",
    "    stems = [ps.stem(word) for word in original.split()]\n",
    "    original_stemmed = ' '.join(stems)\n",
    "    return original_stemmed\n",
    "\n",
    "docs = []\n",
    "for sentence in df.cleaned:\n",
    "    words = word_tokenize(stem(remove_stopwords(basic_clean(sentence))))\n",
    "    docs.append(words)"
   ]
  },
  {
   "cell_type": "code",
   "execution_count": 33,
   "id": "3dbceff9",
   "metadata": {},
   "outputs": [
    {
     "name": "stdout",
     "output_type": "stream",
     "text": [
      "In stage 0: transferred 1388 clusters with 15 clusters populated\n",
      "In stage 1: transferred 650 clusters with 6 clusters populated\n",
      "In stage 2: transferred 132 clusters with 4 clusters populated\n",
      "In stage 3: transferred 52 clusters with 4 clusters populated\n",
      "In stage 4: transferred 48 clusters with 4 clusters populated\n"
     ]
    }
   ],
   "source": [
    "mgp = MovieGroupProcess(K=15, alpha=0.1, beta=1, n_iters=5)\n",
    "\n",
    "vocab = set(x for doc in docs for x in doc)\n",
    "n_terms = len(vocab)\n",
    "\n",
    "y = mgp.fit(docs, n_terms)"
   ]
  },
  {
   "cell_type": "code",
   "execution_count": 34,
   "id": "bcbbcb93",
   "metadata": {},
   "outputs": [
    {
     "name": "stdout",
     "output_type": "stream",
     "text": [
      "Number of documents per topic : [   0    3    0    0  325    0    0    0    2    0    0    0    0    0\n",
      " 1203]\n"
     ]
    }
   ],
   "source": [
    "doc_count = np.array(mgp.cluster_doc_count)\n",
    "print('Number of documents per topic :', doc_count)"
   ]
  },
  {
   "cell_type": "code",
   "execution_count": 35,
   "id": "917c7f42",
   "metadata": {},
   "outputs": [
    {
     "name": "stdout",
     "output_type": "stream",
     "text": [
      "Most important clusters (by number of docs inside): [14  4  1  8 13 12 11 10  9  7  6  5  3  2  0]\n"
     ]
    }
   ],
   "source": [
    "top_index = doc_count.argsort()[-15:][::-1]\n",
    "print('Most important clusters (by number of docs inside):', top_index)"
   ]
  },
  {
   "cell_type": "code",
   "execution_count": 36,
   "id": "b5f16d3e",
   "metadata": {},
   "outputs": [],
   "source": [
    "def top_words(cluster_word_distribution, top_cluster, values):\n",
    "    for cluster in top_cluster:\n",
    "        sort_dicts =sorted(mgp.cluster_word_distribution[cluster].items(), key=lambda k: k[1], reverse=True)[:values]\n",
    "        print('Cluster %s : %s'%(cluster,sort_dicts))\n",
    "        print('-'*120)"
   ]
  },
  {
   "cell_type": "code",
   "execution_count": 37,
   "id": "0e70cf71",
   "metadata": {},
   "outputs": [
    {
     "name": "stdout",
     "output_type": "stream",
     "text": [
      "Cluster 14 : [('citect', 1330), ('server', 1109), ('alarm', 802), ('scada', 438), ('tag', 425), ('driver', 349), ('run', 345)]\n",
      "------------------------------------------------------------------------------------------------------------------------\n",
      "Cluster 4 : [('licens', 582), ('citect', 315), ('server', 186), ('key', 151), ('activ', 147), ('scada', 115), ('updat', 103)]\n",
      "------------------------------------------------------------------------------------------------------------------------\n",
      "Cluster 1 : [('test', 8), ('prod', 8), ('ignor', 8)]\n",
      "------------------------------------------------------------------------------------------------------------------------\n",
      "Cluster 8 : [('de', 6), ('plc', 6), ('en', 5), ('se', 5), ('la', 4), ('modnet', 4), ('intermitencia', 4)]\n",
      "------------------------------------------------------------------------------------------------------------------------\n",
      "Cluster 13 : []\n",
      "------------------------------------------------------------------------------------------------------------------------\n",
      "Cluster 12 : []\n",
      "------------------------------------------------------------------------------------------------------------------------\n",
      "Cluster 11 : []\n",
      "------------------------------------------------------------------------------------------------------------------------\n",
      "Cluster 10 : []\n",
      "------------------------------------------------------------------------------------------------------------------------\n",
      "Cluster 9 : []\n",
      "------------------------------------------------------------------------------------------------------------------------\n",
      "Cluster 7 : []\n",
      "------------------------------------------------------------------------------------------------------------------------\n",
      "Cluster 6 : []\n",
      "------------------------------------------------------------------------------------------------------------------------\n",
      "Cluster 5 : []\n",
      "------------------------------------------------------------------------------------------------------------------------\n",
      "Cluster 3 : []\n",
      "------------------------------------------------------------------------------------------------------------------------\n",
      "Cluster 2 : []\n",
      "------------------------------------------------------------------------------------------------------------------------\n",
      "Cluster 0 : []\n",
      "------------------------------------------------------------------------------------------------------------------------\n"
     ]
    }
   ],
   "source": [
    "# Show the top 7 words in term frequency for each cluster \n",
    "top_words(mgp.cluster_word_distribution, top_index, 7)"
   ]
  },
  {
   "cell_type": "code",
   "execution_count": 38,
   "id": "17a8ca66",
   "metadata": {},
   "outputs": [],
   "source": [
    "topic_dict = {}\n",
    "topic_names = ['Topic #1',\n",
    "               'Topic #2',\n",
    "               'Topic #3',\n",
    "               'Topic #4',\n",
    "               'Topic #5',\n",
    "               'Topic #6',\n",
    "               'Topic #7',\n",
    "               'Topic #8',\n",
    "               'Topic #9',\n",
    "               'Topic #10',\n",
    "               'Topic #11',\n",
    "               'Topic #12',\n",
    "               'Topic #13',\n",
    "               'Topic #14',\n",
    "               'Topic #15'\n",
    "              ]\n",
    "for i, topic_num in enumerate(top_index):\n",
    "    topic_dict[topic_num]=topic_names[i]"
   ]
  },
  {
   "cell_type": "code",
   "execution_count": 39,
   "id": "2db7d9bd",
   "metadata": {},
   "outputs": [],
   "source": [
    "def create_topics_dataframe(data_text=df.cleaned,  mgp=mgp, threshold=0.3, topic_dict=topic_dict, stem_text=docs):\n",
    "    result = pd.DataFrame(columns=['text', 'topic', 'stems'])\n",
    "    for i, text in enumerate(data_text):\n",
    "        result.at[i, 'text'] = text\n",
    "        result.at[i, 'stems'] = stem_text[i]\n",
    "        prob = mgp.choose_best_label(stem_text[i])\n",
    "        if prob[1] >= threshold:\n",
    "            result.at[i, 'topic'] = topic_dict[prob[0]]\n",
    "        else:\n",
    "            result.at[i, 'topic'] = 'Other'\n",
    "    return result"
   ]
  },
  {
   "cell_type": "code",
   "execution_count": 40,
   "id": "7f58ddc6",
   "metadata": {},
   "outputs": [],
   "source": [
    "dfx = create_topics_dataframe(data_text=df.cleaned,  mgp=mgp, threshold=0.3, topic_dict=topic_dict, stem_text=docs)"
   ]
  },
  {
   "cell_type": "code",
   "execution_count": 41,
   "id": "26c6d0fc",
   "metadata": {},
   "outputs": [
    {
     "data": {
      "text/plain": [
       "Topic #1    1162\n",
       "Topic #2     320\n",
       "Other         46\n",
       "Topic #3       3\n",
       "Topic #4       2\n",
       "Name: topic, dtype: int64"
      ]
     },
     "execution_count": 41,
     "metadata": {},
     "output_type": "execute_result"
    }
   ],
   "source": [
    "dfx.topic.value_counts(dropna=False)"
   ]
  },
  {
   "cell_type": "code",
   "execution_count": null,
   "id": "df3df13f",
   "metadata": {},
   "outputs": [],
   "source": []
  }
 ],
 "metadata": {
  "kernelspec": {
   "display_name": "Python 3 (ipykernel)",
   "language": "python",
   "name": "python3"
  },
  "language_info": {
   "codemirror_mode": {
    "name": "ipython",
    "version": 3
   },
   "file_extension": ".py",
   "mimetype": "text/x-python",
   "name": "python",
   "nbconvert_exporter": "python",
   "pygments_lexer": "ipython3",
   "version": "3.9.9"
  }
 },
 "nbformat": 4,
 "nbformat_minor": 5
}
